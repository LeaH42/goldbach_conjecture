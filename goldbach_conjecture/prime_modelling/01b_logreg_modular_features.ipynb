{
 "cells": [
  {
   "cell_type": "markdown",
   "id": "637a57b2-cbd6-4384-8bac-a66f0e91ff13",
   "metadata": {},
   "source": [
    "### Prove of concept: we should be able to build an almost perfect prime model on modular features \n",
    "**modular feature**: is a number dividable by a given prime <br>\n",
    "target whether int is/ isnt prime is almost a simple linear combination of features"
   ]
  },
  {
   "cell_type": "code",
   "execution_count": 1,
   "id": "3ebf84b8-2f74-47b4-9c1a-ca2a8aae67ef",
   "metadata": {},
   "outputs": [],
   "source": [
    "# imports\n",
    "import numpy as np\n",
    "from matplotlib import pyplot as plt\n",
    "import pandas as pd\n",
    "\n",
    "\n",
    "# sklearn imports\n",
    "from sklearn.model_selection import train_test_split\n",
    "\n",
    "from sklearn.linear_model import LogisticRegressionCV\n",
    "\n",
    "from sklearn.metrics import confusion_matrix, classification_report\n",
    "from sklearn.metrics import ConfusionMatrixDisplay\n"
   ]
  },
  {
   "cell_type": "code",
   "execution_count": 2,
   "id": "274287b6-531b-4438-a5d1-d6ff79f470d7",
   "metadata": {},
   "outputs": [],
   "source": [
    "# params\n",
    "prime_lim = 500000"
   ]
  },
  {
   "cell_type": "markdown",
   "id": "b3247c89-0cd7-4faa-a74d-763fd7201bdf",
   "metadata": {},
   "source": [
    "#### Build Core Dataset"
   ]
  },
  {
   "cell_type": "code",
   "execution_count": 3,
   "id": "5bc926c9-baa4-4ce6-ad32-497a1b6b11c3",
   "metadata": {},
   "outputs": [
    {
     "data": {
      "text/plain": [
       "array([  2,   3,   5,   7,  11,  13,  17,  19,  23,  29,  31,  37,  41,\n",
       "        43,  47,  53,  59,  61,  67,  71,  73,  79,  83,  89,  97, 101,\n",
       "       103, 107, 109, 113, 127, 131, 137, 139, 149, 151, 157, 163, 167,\n",
       "       173, 179, 181, 191, 193, 197, 199, 211, 223, 227, 229, 233, 239,\n",
       "       241, 251, 257, 263, 269, 271, 277, 281, 283, 293, 307, 311, 313,\n",
       "       317, 331, 337, 347, 349, 353, 359, 367, 373, 379, 383, 389, 397,\n",
       "       401, 409, 419, 421, 431, 433, 439, 443, 449, 457, 461, 463, 467,\n",
       "       479, 487, 491, 499, 503, 509, 521, 523, 541], dtype=int64)"
      ]
     },
     "execution_count": 3,
     "metadata": {},
     "output_type": "execute_result"
    }
   ],
   "source": [
    "# read in prime numbers\n",
    "primes = np.load(f'../../artifacts/primes/prime_{prime_lim}.npy')\n",
    "primes[:100]"
   ]
  },
  {
   "cell_type": "code",
   "execution_count": 4,
   "id": "6311335e-df2c-453d-93d4-8ee2cd6a97dd",
   "metadata": {},
   "outputs": [],
   "source": [
    "# convert to natural numbers with binary target\n",
    "natural_numbers = np.arange(0,prime_lim)\n",
    "target = np.zeros(prime_lim, dtype=bool)\n",
    "target[primes] = True"
   ]
  },
  {
   "cell_type": "code",
   "execution_count": 5,
   "id": "702ea8ec-5517-42c6-a9fa-1c0734978ff6",
   "metadata": {},
   "outputs": [
    {
     "data": {
      "text/html": [
       "<div>\n",
       "<style scoped>\n",
       "    .dataframe tbody tr th:only-of-type {\n",
       "        vertical-align: middle;\n",
       "    }\n",
       "\n",
       "    .dataframe tbody tr th {\n",
       "        vertical-align: top;\n",
       "    }\n",
       "\n",
       "    .dataframe thead th {\n",
       "        text-align: right;\n",
       "    }\n",
       "</style>\n",
       "<table border=\"1\" class=\"dataframe\">\n",
       "  <thead>\n",
       "    <tr style=\"text-align: right;\">\n",
       "      <th></th>\n",
       "      <th>n</th>\n",
       "      <th>y</th>\n",
       "    </tr>\n",
       "  </thead>\n",
       "  <tbody>\n",
       "    <tr>\n",
       "      <th>0</th>\n",
       "      <td>2</td>\n",
       "      <td>True</td>\n",
       "    </tr>\n",
       "    <tr>\n",
       "      <th>1</th>\n",
       "      <td>3</td>\n",
       "      <td>True</td>\n",
       "    </tr>\n",
       "    <tr>\n",
       "      <th>2</th>\n",
       "      <td>4</td>\n",
       "      <td>False</td>\n",
       "    </tr>\n",
       "    <tr>\n",
       "      <th>3</th>\n",
       "      <td>5</td>\n",
       "      <td>True</td>\n",
       "    </tr>\n",
       "    <tr>\n",
       "      <th>4</th>\n",
       "      <td>6</td>\n",
       "      <td>False</td>\n",
       "    </tr>\n",
       "  </tbody>\n",
       "</table>\n",
       "</div>"
      ],
      "text/plain": [
       "   n      y\n",
       "0  2   True\n",
       "1  3   True\n",
       "2  4  False\n",
       "3  5   True\n",
       "4  6  False"
      ]
     },
     "execution_count": 5,
     "metadata": {},
     "output_type": "execute_result"
    }
   ],
   "source": [
    "data = pd.DataFrame(data={'n': natural_numbers[2:], 'y': target[2:]})\n",
    "data.head()"
   ]
  },
  {
   "cell_type": "markdown",
   "id": "3e30ace8-8152-4e3c-b249-4c51b4894438",
   "metadata": {
    "jp-MarkdownHeadingCollapsed": true
   },
   "source": [
    "### A: try out small data sets with modular features\n",
    "--> if we can actually almost garantie a modular signal per prime in training, the models should show almost perfect performance"
   ]
  },
  {
   "cell_type": "markdown",
   "id": "843951f1-8247-4b84-b054-d5baab47b10b",
   "metadata": {},
   "source": [
    "models: \n",
    "- prime cutoff 10000, and the lower 100 primes are used for features --> converges\n",
    "- prime cutoff 100000, and the lower 100 primes are used for features --> converges\n",
    "- prime cutoff 500000, and the lower 100 primes are used for features --> converges"
   ]
  },
  {
   "cell_type": "code",
   "execution_count": 6,
   "id": "02e7cd76-5770-4d3f-8fc4-0cf989e70ddf",
   "metadata": {},
   "outputs": [
    {
     "name": "stdout",
     "output_type": "stream",
     "text": [
      "10000 \n",
      "\n",
      "(9998, 2)\n",
      "   n      y  mod_2  mod_3  mod_5  mod_7  mod_11  mod_13  mod_17  mod_19  ...  \\\n",
      "0  2   True      0      0      0      0       0       0       0       0  ...   \n",
      "1  3   True      0      0      0      0       0       0       0       0  ...   \n",
      "2  4  False      1      0      0      0       0       0       0       0  ...   \n",
      "3  5   True      0      0      0      0       0       0       0       0  ...   \n",
      "4  6  False      1      1      0      0       0       0       0       0  ...   \n",
      "\n",
      "   mod_467  mod_479  mod_487  mod_491  mod_499  mod_503  mod_509  mod_521  \\\n",
      "0        0        0        0        0        0        0        0        0   \n",
      "1        0        0        0        0        0        0        0        0   \n",
      "2        0        0        0        0        0        0        0        0   \n",
      "3        0        0        0        0        0        0        0        0   \n",
      "4        0        0        0        0        0        0        0        0   \n",
      "\n",
      "   mod_523  mod_541  \n",
      "0        0        0  \n",
      "1        0        0  \n",
      "2        0        0  \n",
      "3        0        0  \n",
      "4        0        0  \n",
      "\n",
      "[5 rows x 102 columns]\n",
      "False\n",
      "Training completed\n",
      "100000 \n",
      "\n",
      "(99998, 2)\n",
      "   n      y  mod_2  mod_3  mod_5  mod_7  mod_11  mod_13  mod_17  mod_19  ...  \\\n",
      "0  2   True      0      0      0      0       0       0       0       0  ...   \n",
      "1  3   True      0      0      0      0       0       0       0       0  ...   \n",
      "2  4  False      1      0      0      0       0       0       0       0  ...   \n",
      "3  5   True      0      0      0      0       0       0       0       0  ...   \n",
      "4  6  False      1      1      0      0       0       0       0       0  ...   \n",
      "\n",
      "   mod_467  mod_479  mod_487  mod_491  mod_499  mod_503  mod_509  mod_521  \\\n",
      "0        0        0        0        0        0        0        0        0   \n",
      "1        0        0        0        0        0        0        0        0   \n",
      "2        0        0        0        0        0        0        0        0   \n",
      "3        0        0        0        0        0        0        0        0   \n",
      "4        0        0        0        0        0        0        0        0   \n",
      "\n",
      "   mod_523  mod_541  \n",
      "0        0        0  \n",
      "1        0        0  \n",
      "2        0        0  \n",
      "3        0        0  \n",
      "4        0        0  \n",
      "\n",
      "[5 rows x 102 columns]\n",
      "False\n",
      "Training completed\n",
      "500000 \n",
      "\n",
      "(499998, 2)\n",
      "   n      y  mod_2  mod_3  mod_5  mod_7  mod_11  mod_13  mod_17  mod_19  ...  \\\n",
      "0  2   True      0      0      0      0       0       0       0       0  ...   \n",
      "1  3   True      0      0      0      0       0       0       0       0  ...   \n",
      "2  4  False      1      0      0      0       0       0       0       0  ...   \n",
      "3  5   True      0      0      0      0       0       0       0       0  ...   \n",
      "4  6  False      1      1      0      0       0       0       0       0  ...   \n",
      "\n",
      "   mod_467  mod_479  mod_487  mod_491  mod_499  mod_503  mod_509  mod_521  \\\n",
      "0        0        0        0        0        0        0        0        0   \n",
      "1        0        0        0        0        0        0        0        0   \n",
      "2        0        0        0        0        0        0        0        0   \n",
      "3        0        0        0        0        0        0        0        0   \n",
      "4        0        0        0        0        0        0        0        0   \n",
      "\n",
      "   mod_523  mod_541  \n",
      "0        0        0  \n",
      "1        0        0  \n",
      "2        0        0  \n",
      "3        0        0  \n",
      "4        0        0  \n",
      "\n",
      "[5 rows x 102 columns]\n",
      "False\n",
      "Training completed\n"
     ]
    }
   ],
   "source": [
    "model_dict = {\n",
    "    10000: {},\n",
    "    100000: {},\n",
    "    prime_lim: {},\n",
    "} # prime_cutoff as key for models\n",
    "\n",
    "n_modular_features = 100 # not all features\n",
    "target_col = 'y'\n",
    "\n",
    "\n",
    "for prime_cutoff in model_dict.keys():\n",
    "    print(prime_cutoff,'\\n')\n",
    "    \n",
    "    data_a = data[data['n']<prime_cutoff].copy()\n",
    "    print(data_a.shape)\n",
    "    \n",
    "    # create modular features\n",
    "    features = [data_a['n'].apply(lambda x: 1 if (x%prime==0 and x!=prime) else 0).values for prime in primes[:n_modular_features]]\n",
    "    features = np.array(features).T\n",
    "    feature_col = [f\"mod_{str(prime)}\" for prime in primes[:n_modular_features]]\n",
    "\n",
    "    data_a = pd.concat([data_a, pd.DataFrame(features, columns=feature_col)], axis=1)\n",
    "\n",
    "    print(data_a.head())\n",
    "\n",
    "    # split in train & test    \n",
    "    X, y = data_a[feature_col], data_a[target_col]\n",
    "    print(target_col in feature_col)\n",
    "    \n",
    "    X_train, X_test, y_train, y_test  = train_test_split(X, y, test_size=0.33, random_state=42)\n",
    "    \n",
    "    # train logistic regression as start\n",
    "    # lbfgs solver, l2 penalty\n",
    "    clf = LogisticRegressionCV(cv=10, random_state=0, max_iter=500).fit(X_train, y_train)\n",
    "    \n",
    "    # store models and data\n",
    "    model_dict[prime_cutoff]['data'] = data_a.copy()\n",
    "    model_dict[prime_cutoff]['model'] = clf\n",
    "    \n",
    "    model_dict[prime_cutoff]['X_train'] = X_train.copy()\n",
    "    model_dict[prime_cutoff]['X_test'] = X_test.copy()\n",
    "    model_dict[prime_cutoff]['y_train'] = y_train.copy()\n",
    "    model_dict[prime_cutoff]['y_test'] = y_test.copy()\n",
    "\n",
    "    print('Training completed')\n"
   ]
  },
  {
   "cell_type": "code",
   "execution_count": 7,
   "id": "1212576c-c446-410e-8678-c8b8c894a469",
   "metadata": {},
   "outputs": [],
   "source": [
    "# create predictions for evaluation of models\n",
    "\n",
    "for prime_cutoff in model_dict.keys():\n",
    "    curmod = model_dict[prime_cutoff]\n",
    "    curmod['y_pred'] = curmod['model'].predict(curmod['X_test'])\n"
   ]
  },
  {
   "cell_type": "markdown",
   "id": "5dbe6a8a-8926-4c00-839e-51158d3f9030",
   "metadata": {},
   "source": [
    "#### Check overall performance of models"
   ]
  },
  {
   "cell_type": "code",
   "execution_count": 8,
   "id": "ae1b5ed1-6919-4b3a-ac73-f233df5b6b88",
   "metadata": {},
   "outputs": [
    {
     "name": "stdout",
     "output_type": "stream",
     "text": [
      "model with prime cutoff 10000\n",
      "confusion matrix \n",
      " [[2905    0]\n",
      " [   0  395]] \n",
      "\n",
      "              precision    recall  f1-score   support\n",
      "\n",
      "       False       1.00      1.00      1.00      2905\n",
      "        True       1.00      1.00      1.00       395\n",
      "\n",
      "    accuracy                           1.00      3300\n",
      "   macro avg       1.00      1.00      1.00      3300\n",
      "weighted avg       1.00      1.00      1.00      3300\n",
      "\n",
      "model with prime cutoff 100000\n",
      "confusion matrix \n",
      " [[29836     7]\n",
      " [    0  3157]] \n",
      "\n",
      "              precision    recall  f1-score   support\n",
      "\n",
      "       False       1.00      1.00      1.00     29843\n",
      "        True       1.00      1.00      1.00      3157\n",
      "\n",
      "    accuracy                           1.00     33000\n",
      "   macro avg       1.00      1.00      1.00     33000\n",
      "weighted avg       1.00      1.00      1.00     33000\n",
      "\n",
      "model with prime cutoff 500000\n",
      "confusion matrix \n",
      " [[150960    248]\n",
      " [     0  13792]] \n",
      "\n",
      "              precision    recall  f1-score   support\n",
      "\n",
      "       False       1.00      1.00      1.00    151208\n",
      "        True       0.98      1.00      0.99     13792\n",
      "\n",
      "    accuracy                           1.00    165000\n",
      "   macro avg       0.99      1.00      1.00    165000\n",
      "weighted avg       1.00      1.00      1.00    165000\n",
      "\n"
     ]
    }
   ],
   "source": [
    "for prime_cutoff in model_dict.keys():\n",
    "    print(f'model with prime cutoff {prime_cutoff}')\n",
    "    curmod = model_dict[prime_cutoff]\n",
    "    print('confusion matrix \\n', confusion_matrix(curmod['y_test'], curmod['y_pred']), '\\n')\n",
    "\n",
    "    print(classification_report(curmod['y_test'], curmod['y_pred']))\n"
   ]
  },
  {
   "cell_type": "markdown",
   "id": "b5b2642a-bd25-4f1c-840e-f4fb5972b56e",
   "metadata": {},
   "source": [
    "very few misclassification in every model"
   ]
  },
  {
   "cell_type": "markdown",
   "id": "6bd40bfd-27ee-4ce3-b5a6-5b892f1f2beb",
   "metadata": {},
   "source": [
    "#### Confusion matrix depending on signal in modular features for models\n",
    "**When do we have misclassifications?** <br>\n",
    "-> all false positives (not prime, but predicted as prime) should have no signal in modular features (like no single modular feature = 1) <br>\n",
    "-> all false negatives (prime, but not predicted as prime) cannot have any modular signal (as they are not prime) -> so how does this misclassification happen? <br>\n",
    "\n",
    "<br> \n",
    "- ideally, the model would perfectly learn that no modular signal = prime -> that would eliminate all false negatives <br>\n",
    "- introducing other features than just modular features would help to reduce the false positives"
   ]
  },
  {
   "cell_type": "code",
   "execution_count": 9,
   "id": "804f066a-effc-4949-89fe-b3f45d22c209",
   "metadata": {},
   "outputs": [
    {
     "data": {
      "image/png": "[encoded data removed]",
      "text/plain": [
       "<Figure size 900x350 with 4 Axes>"
      ]
     },
     "metadata": {},
     "output_type": "display_data"
    },
    {
     "data": {
      "image/png": "[encoded data removed]",
      "text/plain": [
       "<Figure size 900x350 with 4 Axes>"
      ]
     },
     "metadata": {},
     "output_type": "display_data"
    },
    {
     "data": {
      "image/png": "[encoded data removed]",
      "text/plain": [
       "<Figure size 900x350 with 4 Axes>"
      ]
     },
     "metadata": {},
     "output_type": "display_data"
    }
   ],
   "source": [
    "for i, prime_cutoff in enumerate(model_dict.keys()):\n",
    "    fig, ax = plt.subplots(1,2, figsize=(9, 3.5))\n",
    "\n",
    "    curmod = model_dict[prime_cutoff]\n",
    "\n",
    "    mod_features = curmod['model'].feature_names_in_\n",
    "\n",
    "    # add new superposition of modular features to dataframe\n",
    "    curmod['X_test']['any_mod'] = curmod['X_test'][mod_features].aggregate('sum',axis=1)>0\n",
    "\n",
    "    # confusion matrix with any modular features\n",
    "    cm_mod = confusion_matrix(curmod['y_test'][curmod['X_test']['any_mod']], curmod['y_pred'][curmod['X_test']['any_mod']], labels=curmod['model'].classes_)\n",
    "\n",
    "    disp = ConfusionMatrixDisplay(confusion_matrix=cm_mod,\n",
    "                              display_labels=curmod['model'].classes_)\n",
    "\n",
    "    disp.plot(ax=ax[0])\n",
    "    \n",
    "    # confusion matrix without any modular features\n",
    "    cm_nonmod = confusion_matrix(curmod['y_test'][curmod['X_test']['any_mod']==False], curmod['y_pred'][curmod['X_test']['any_mod']==False], labels=curmod['model'].classes_)\n",
    "\n",
    "\n",
    "    disp = ConfusionMatrixDisplay(confusion_matrix=cm_nonmod,\n",
    "                                  display_labels=curmod['model'].classes_)\n",
    "    disp.plot(ax=ax[1])\n",
    "\n",
    "    ax[0].set_title('Modular features = 1', size=10)\n",
    "    ax[1].set_title('Modular features = 0', size=10)\n",
    "\n",
    "    plt.suptitle(f\"Model with prime cutoff {prime_cutoff}\")\n",
    "    plt.subplots_adjust(wspace=0.3, hspace=0.3)\n",
    "    plt.show()\n"
   ]
  },
  {
   "cell_type": "markdown",
   "id": "7024c3fd-234a-4926-942a-470f516db0ae",
   "metadata": {},
   "source": [
    "- first model has perfect classification\n",
    "- second model classifies some primes with instead of modular features, but no modular feature = prime (and is true in test set)\n",
    "- third model correctly classifies any number with any modular signal as \"not prime\" but misclassifies all which are prime although there is no modular signal\n",
    "  --> we now have to find other features which might help with this false positive group"
   ]
  },
  {
   "cell_type": "markdown",
   "id": "a8f0cdb8-aec9-46e3-b2a9-3bc2d10a8ea5",
   "metadata": {},
   "source": [
    "### B: lets try to move away from modular features\n",
    "- modular features are trivial, because if we provide them all, the recognition of \"prime / no prime\" is a simple linear superposition <br>\n",
    "- lets try to find other features and reduce modular features"
   ]
  },
  {
   "cell_type": "markdown",
   "id": "dbb8b8ca-f960-4682-9995-ee3cbe07a3aa",
   "metadata": {},
   "source": [
    "models:\n",
    "- prime cutoff 500000, and the lower 50 primes are used for features, no other features -> converges\n",
    "- prime cutoff 500000, and the lower 50 primes are used for features, some other normalized features added\n",
    "  -> converges\n",
    "  -> do the new features help AT ALL in reducing false positives?\n"
   ]
  },
  {
   "cell_type": "code",
   "execution_count": 43,
   "id": "f41c9d64-8186-4ef7-a8a2-6455b36a7d9c",
   "metadata": {},
   "outputs": [],
   "source": [
    "n_modular_features = 50 # not all features\n",
    "target_col = 'y'\n",
    "\n",
    "data_b = data[data['n']<prime_cutoff].copy()"
   ]
  },
  {
   "cell_type": "code",
   "execution_count": 44,
   "id": "97a50d3f-c3cb-4c90-9028-1e052d9912e8",
   "metadata": {},
   "outputs": [],
   "source": [
    "# create modular features\n",
    "features = [data_b['n'].apply(lambda x: 1 if (x%prime==0 and x!=prime) else 0).values for prime in primes[:n_modular_features]]\n",
    "features = np.array(features).T\n",
    "feature_col = [f\"mod_{str(prime)}\" for prime in primes[:n_modular_features]]\n",
    "\n",
    "data_b = pd.concat([data_b, pd.DataFrame(features, columns=feature_col)], axis=1)\n",
    "\n",
    "# print(data_b.head())"
   ]
  },
  {
   "cell_type": "code",
   "execution_count": 45,
   "id": "8ac61a34-0d39-4017-badc-009ae2b29c84",
   "metadata": {},
   "outputs": [],
   "source": [
    "# non-modular features\n",
    "\n",
    "data_b['n+1'] = data_b['n'].apply(lambda x: x+1)\n",
    "data_b['n-1'] = data_b['n'].apply(lambda x: x-1)\n",
    "data_b['2n'] = data_b['n'].apply(lambda x: x*2)\n",
    "data_b['n**2'] = data_b['n'].apply(lambda x: x**2)\n",
    "data_b['n%2'] = data_b['n'].apply(lambda x: x%2) # this might be too strong as an indicator?\n",
    "\n",
    "# distance to last prime?\n",
    "# number of primes before this number\n",
    "# dividing current number by last prime? \n",
    "# what is last prime?\n",
    "\n",
    "data_b['last_prime']=data_b['n'].apply(lambda x: primes[primes<x].max() if x!=2 else -1)\n",
    "data_b['primes_lower_n']=data_b['n'].apply(lambda x: len(primes[primes<x]) if x!=2 else 0)\n",
    "data_b['n_div_last_prime']=data_b.apply(lambda x: x['n']/x['last_prime'] if x['n']!=2 else -1, axis=1)\n",
    "data_b['n_minus_last_prime']=data_b.apply(lambda x: x['n']-x['last_prime'] if x['n']!=2 else -1, axis=1)\n"
   ]
  },
  {
   "cell_type": "code",
   "execution_count": 46,
   "id": "7fa3ed8d-abeb-47ed-911f-0f127853d596",
   "metadata": {},
   "outputs": [
    {
     "name": "stdout",
     "output_type": "stream",
     "text": [
      "False\n"
     ]
    }
   ],
   "source": [
    "feature_col = data_b.columns.drop(target_col)\n",
    "print(target_col in feature_col)\n"
   ]
  },
  {
   "cell_type": "code",
   "execution_count": 47,
   "id": "0b4cec54-75b0-4b1d-80ad-06baa84c3500",
   "metadata": {},
   "outputs": [],
   "source": [
    "from sklearn.preprocessing import MinMaxScaler\n",
    "\n",
    "scaler = MinMaxScaler()\n",
    "data_b[feature_col] = scaler.fit_transform(data_b[feature_col])"
   ]
  },
  {
   "cell_type": "code",
   "execution_count": 48,
   "id": "79b72292-edf7-4d4f-a3ca-4b1e0c7933bc",
   "metadata": {
    "scrolled": true
   },
   "outputs": [],
   "source": [
    "# split in train & test    \n",
    "X, y = data_b[feature_col], data_b[target_col]\n",
    "\n",
    "X_train, X_test, y_train, y_test  = train_test_split(X, y, test_size=0.33, random_state=42)\n",
    "\n",
    "# train logistic regression as start\n",
    "# lbfgs solver, l2 penalty\n",
    "clf = LogisticRegressionCV(cv=10, random_state=0, max_iter=500).fit(X_train, y_train)"
   ]
  },
  {
   "cell_type": "code",
   "execution_count": 49,
   "id": "c58c5383-c5a3-49e2-8de3-f82a9d15e087",
   "metadata": {},
   "outputs": [
    {
     "data": {
      "text/plain": [
       "array([[148512,   2696],\n",
       "       [     0,  13792]], dtype=int64)"
      ]
     },
     "execution_count": 49,
     "metadata": {},
     "output_type": "execute_result"
    }
   ],
   "source": [
    "y_pred = clf.predict(X_test)\n",
    "\n",
    "cm = confusion_matrix(y_test, y_pred)\n",
    "cm"
   ]
  },
  {
   "cell_type": "code",
   "execution_count": 51,
   "id": "f5ccffaa-6704-43ec-893a-ad0c7202eb96",
   "metadata": {},
   "outputs": [
    {
     "data": {
      "text/plain": [
       "array([[-0.28066568, -3.56162422, -5.80593982, -5.21774382, -4.88756916,\n",
       "        -4.4815954 , -4.34077529, -4.14463436, -4.06040192, -3.9181935 ,\n",
       "        -3.74830853, -3.71011689, -3.56425245, -3.50592246, -3.46789805,\n",
       "        -3.3470226 , -3.34347626, -3.20811404, -3.19427755, -3.12820308,\n",
       "        -3.0835448 , -3.01501356, -2.97681634, -2.90046597, -2.87569431,\n",
       "        -2.79390597, -2.70692557, -2.74032276, -2.7070645 , -2.64657261,\n",
       "        -2.62555797, -2.44066696, -2.53343347, -2.45638622, -2.49403467,\n",
       "        -2.36568073, -2.36682617, -2.30815579, -2.31099118, -2.2744671 ,\n",
       "        -2.26975279, -2.11554809, -2.18639138, -2.05508012, -2.07956338,\n",
       "        -2.0722903 , -2.0607859 , -2.04035239, -1.88743032, -1.90061556,\n",
       "        -1.93411827, -0.28066568, -0.28066568, -0.28066568,  0.99645581,\n",
       "         3.65878649, -0.28070913, -0.46745025,  0.08761613,  0.15083589]])"
      ]
     },
     "execution_count": 51,
     "metadata": {},
     "output_type": "execute_result"
    }
   ],
   "source": [
    "# coefs != feature importance...\n",
    "cm.coef_"
   ]
  }
 ],
 "metadata": {
  "kernelspec": {
   "display_name": "Python 3 (ipykernel)",
   "language": "python",
   "name": "python3"
  },
  "language_info": {
   "codemirror_mode": {
    "name": "ipython",
    "version": 3
   },
   "file_extension": ".py",
   "mimetype": "text/x-python",
   "name": "python",
   "nbconvert_exporter": "python",
   "pygments_lexer": "ipython3",
   "version": "3.10.5"
  }
 },
 "nbformat": 4,
 "nbformat_minor": 5
}
