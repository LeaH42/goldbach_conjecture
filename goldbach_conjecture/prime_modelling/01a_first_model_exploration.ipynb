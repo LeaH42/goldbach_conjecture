{
 "cells": [
  {
   "cell_type": "markdown",
   "id": "dc91f706-9911-452d-b375-42eba6eb970b",
   "metadata": {},
   "source": [
    "### Is it possible to build a classification model for detecting prime numbers?"
   ]
  },
  {
   "cell_type": "code",
   "execution_count": 1,
   "id": "82db1208-05bb-4ce6-b083-8a8aa8feb4d1",
   "metadata": {},
   "outputs": [],
   "source": [
    "# imports\n",
    "import numpy as np\n",
    "#import matplotlib as plt\n",
    "import pandas as pd"
   ]
  },
  {
   "cell_type": "code",
   "execution_count": 2,
   "id": "8f58bfba-4da8-4458-bed7-a14e19d114d3",
   "metadata": {},
   "outputs": [],
   "source": [
    "# params\n",
    "prime_lim = 500000"
   ]
  },
  {
   "cell_type": "code",
   "execution_count": 3,
   "id": "86e2871e-5e36-4ac3-9424-f934aa2d5a3f",
   "metadata": {},
   "outputs": [
    {
     "data": {
      "text/plain": [
       "array([  2,   3,   5,   7,  11,  13,  17,  19,  23,  29,  31,  37,  41,\n",
       "        43,  47,  53,  59,  61,  67,  71,  73,  79,  83,  89,  97, 101,\n",
       "       103, 107, 109, 113, 127, 131, 137, 139, 149, 151, 157, 163, 167,\n",
       "       173, 179, 181, 191, 193, 197, 199, 211, 223, 227, 229, 233, 239,\n",
       "       241, 251, 257, 263, 269, 271, 277, 281, 283, 293, 307, 311, 313,\n",
       "       317, 331, 337, 347, 349, 353, 359, 367, 373, 379, 383, 389, 397,\n",
       "       401, 409, 419, 421, 431, 433, 439, 443, 449, 457, 461, 463, 467,\n",
       "       479, 487, 491, 499, 503, 509, 521, 523, 541], dtype=int64)"
      ]
     },
     "execution_count": 3,
     "metadata": {},
     "output_type": "execute_result"
    }
   ],
   "source": [
    "# read in prime numbers\n",
    "primes = np.load(f'../../artifacts/primes/prime_{prime_lim}.npy')\n",
    "primes[:100]"
   ]
  },
  {
   "cell_type": "code",
   "execution_count": 4,
   "id": "eafb77b6-7b4d-4026-8c66-0e0a530abc97",
   "metadata": {},
   "outputs": [],
   "source": [
    "# convert to natural numbers with binary target\n",
    "natural_numbers = np.arange(0,prime_lim)\n",
    "target = np.zeros(prime_lim, dtype=bool)\n",
    "target[primes] = True"
   ]
  },
  {
   "cell_type": "code",
   "execution_count": 5,
   "id": "6bc10882-9cc4-4e69-8f96-108e893f987a",
   "metadata": {},
   "outputs": [],
   "source": [
    "data = pd.DataFrame(data={'n': natural_numbers[2:], 'y': target[2:]})"
   ]
  },
  {
   "cell_type": "markdown",
   "id": "80b45850-5a63-42d0-99ea-b040ad3787be",
   "metadata": {},
   "source": [
    "### Features"
   ]
  },
  {
   "cell_type": "markdown",
   "id": "d805b543-d002-4e2b-94c7-b2bedba26dde",
   "metadata": {},
   "source": [
    "what kind of features could we have?\n",
    "- n+1, n-1, ... we can extend this a lot\n",
    "- 2n\n",
    "- n*2\n",
    "- n/2\n",
    "\n",
    "right now, idea would be to have every row independent from each other \n",
    "-> model is not supposed to actually compute the prime numbers (although it would be interesting to know whether it could)"
   ]
  },
  {
   "cell_type": "code",
   "execution_count": 6,
   "id": "335c2df3-f8af-46c1-abe5-5e06def4a36b",
   "metadata": {},
   "outputs": [],
   "source": [
    "data['n+1'] = data['n'].apply(lambda x: x+1)\n",
    "data['n-1'] = data['n'].apply(lambda x: x-1)\n",
    "data['2n'] = data['n'].apply(lambda x: x*2)\n",
    "data['n**2'] = data['n'].apply(lambda x: x**2)\n",
    "data['n%2'] = data['n'].apply(lambda x: x%2) # this might be too strong as an indicator?"
   ]
  },
  {
   "cell_type": "code",
   "execution_count": 7,
   "id": "d1c08766-20a4-41e1-82b8-2f94039e05d4",
   "metadata": {},
   "outputs": [],
   "source": [
    "# distance to last prime?\n",
    "# number of primes before this number\n",
    "# dividing current number by last prime? \n",
    "# what is last prime?\n",
    "\n",
    "data['last_prime']=data['n'].apply(lambda x: primes[primes<x].max() if x!=2 else -1)\n",
    "data['primes_lower_n']=data['n'].apply(lambda x: len(primes[primes<x]) if x!=2 else 0)\n",
    "data['n_div_last_prime']=data.apply(lambda x: x['n']/x['last_prime'] if x['n']!=2 else -1, axis=1)\n",
    "data['n_minus_last_prime']=data.apply(lambda x: x['n']-x['last_prime'] if x['n']!=2 else -1, axis=1)\n",
    "\n",
    "\n",
    "# I could also try out different mod, like n/int((n/3)), is this different from n/3?"
   ]
  },
  {
   "cell_type": "code",
   "execution_count": 8,
   "id": "b42ebd39-fa1b-4f68-95a9-3341166814fc",
   "metadata": {},
   "outputs": [
    {
     "data": {
      "text/html": [
       "<div>\n",
       "<style scoped>\n",
       "    .dataframe tbody tr th:only-of-type {\n",
       "        vertical-align: middle;\n",
       "    }\n",
       "\n",
       "    .dataframe tbody tr th {\n",
       "        vertical-align: top;\n",
       "    }\n",
       "\n",
       "    .dataframe thead th {\n",
       "        text-align: right;\n",
       "    }\n",
       "</style>\n",
       "<table border=\"1\" class=\"dataframe\">\n",
       "  <thead>\n",
       "    <tr style=\"text-align: right;\">\n",
       "      <th></th>\n",
       "      <th>n</th>\n",
       "      <th>y</th>\n",
       "      <th>n+1</th>\n",
       "      <th>n-1</th>\n",
       "      <th>2n</th>\n",
       "      <th>n**2</th>\n",
       "      <th>n%2</th>\n",
       "      <th>last_prime</th>\n",
       "      <th>primes_lower_n</th>\n",
       "      <th>n_div_last_prime</th>\n",
       "      <th>n_minus_last_prime</th>\n",
       "    </tr>\n",
       "  </thead>\n",
       "  <tbody>\n",
       "    <tr>\n",
       "      <th>0</th>\n",
       "      <td>2</td>\n",
       "      <td>True</td>\n",
       "      <td>3</td>\n",
       "      <td>1</td>\n",
       "      <td>4</td>\n",
       "      <td>4</td>\n",
       "      <td>0</td>\n",
       "      <td>-1</td>\n",
       "      <td>0</td>\n",
       "      <td>-1.000000</td>\n",
       "      <td>-1</td>\n",
       "    </tr>\n",
       "    <tr>\n",
       "      <th>1</th>\n",
       "      <td>3</td>\n",
       "      <td>True</td>\n",
       "      <td>4</td>\n",
       "      <td>2</td>\n",
       "      <td>6</td>\n",
       "      <td>9</td>\n",
       "      <td>1</td>\n",
       "      <td>2</td>\n",
       "      <td>1</td>\n",
       "      <td>1.500000</td>\n",
       "      <td>1</td>\n",
       "    </tr>\n",
       "    <tr>\n",
       "      <th>2</th>\n",
       "      <td>4</td>\n",
       "      <td>False</td>\n",
       "      <td>5</td>\n",
       "      <td>3</td>\n",
       "      <td>8</td>\n",
       "      <td>16</td>\n",
       "      <td>0</td>\n",
       "      <td>3</td>\n",
       "      <td>2</td>\n",
       "      <td>1.333333</td>\n",
       "      <td>1</td>\n",
       "    </tr>\n",
       "    <tr>\n",
       "      <th>3</th>\n",
       "      <td>5</td>\n",
       "      <td>True</td>\n",
       "      <td>6</td>\n",
       "      <td>4</td>\n",
       "      <td>10</td>\n",
       "      <td>25</td>\n",
       "      <td>1</td>\n",
       "      <td>3</td>\n",
       "      <td>2</td>\n",
       "      <td>1.666667</td>\n",
       "      <td>2</td>\n",
       "    </tr>\n",
       "    <tr>\n",
       "      <th>4</th>\n",
       "      <td>6</td>\n",
       "      <td>False</td>\n",
       "      <td>7</td>\n",
       "      <td>5</td>\n",
       "      <td>12</td>\n",
       "      <td>36</td>\n",
       "      <td>0</td>\n",
       "      <td>5</td>\n",
       "      <td>3</td>\n",
       "      <td>1.200000</td>\n",
       "      <td>1</td>\n",
       "    </tr>\n",
       "    <tr>\n",
       "      <th>5</th>\n",
       "      <td>7</td>\n",
       "      <td>True</td>\n",
       "      <td>8</td>\n",
       "      <td>6</td>\n",
       "      <td>14</td>\n",
       "      <td>49</td>\n",
       "      <td>1</td>\n",
       "      <td>5</td>\n",
       "      <td>3</td>\n",
       "      <td>1.400000</td>\n",
       "      <td>2</td>\n",
       "    </tr>\n",
       "    <tr>\n",
       "      <th>6</th>\n",
       "      <td>8</td>\n",
       "      <td>False</td>\n",
       "      <td>9</td>\n",
       "      <td>7</td>\n",
       "      <td>16</td>\n",
       "      <td>64</td>\n",
       "      <td>0</td>\n",
       "      <td>7</td>\n",
       "      <td>4</td>\n",
       "      <td>1.142857</td>\n",
       "      <td>1</td>\n",
       "    </tr>\n",
       "    <tr>\n",
       "      <th>7</th>\n",
       "      <td>9</td>\n",
       "      <td>False</td>\n",
       "      <td>10</td>\n",
       "      <td>8</td>\n",
       "      <td>18</td>\n",
       "      <td>81</td>\n",
       "      <td>1</td>\n",
       "      <td>7</td>\n",
       "      <td>4</td>\n",
       "      <td>1.285714</td>\n",
       "      <td>2</td>\n",
       "    </tr>\n",
       "    <tr>\n",
       "      <th>8</th>\n",
       "      <td>10</td>\n",
       "      <td>False</td>\n",
       "      <td>11</td>\n",
       "      <td>9</td>\n",
       "      <td>20</td>\n",
       "      <td>100</td>\n",
       "      <td>0</td>\n",
       "      <td>7</td>\n",
       "      <td>4</td>\n",
       "      <td>1.428571</td>\n",
       "      <td>3</td>\n",
       "    </tr>\n",
       "    <tr>\n",
       "      <th>9</th>\n",
       "      <td>11</td>\n",
       "      <td>True</td>\n",
       "      <td>12</td>\n",
       "      <td>10</td>\n",
       "      <td>22</td>\n",
       "      <td>121</td>\n",
       "      <td>1</td>\n",
       "      <td>7</td>\n",
       "      <td>4</td>\n",
       "      <td>1.571429</td>\n",
       "      <td>4</td>\n",
       "    </tr>\n",
       "    <tr>\n",
       "      <th>10</th>\n",
       "      <td>12</td>\n",
       "      <td>False</td>\n",
       "      <td>13</td>\n",
       "      <td>11</td>\n",
       "      <td>24</td>\n",
       "      <td>144</td>\n",
       "      <td>0</td>\n",
       "      <td>11</td>\n",
       "      <td>5</td>\n",
       "      <td>1.090909</td>\n",
       "      <td>1</td>\n",
       "    </tr>\n",
       "    <tr>\n",
       "      <th>11</th>\n",
       "      <td>13</td>\n",
       "      <td>True</td>\n",
       "      <td>14</td>\n",
       "      <td>12</td>\n",
       "      <td>26</td>\n",
       "      <td>169</td>\n",
       "      <td>1</td>\n",
       "      <td>11</td>\n",
       "      <td>5</td>\n",
       "      <td>1.181818</td>\n",
       "      <td>2</td>\n",
       "    </tr>\n",
       "    <tr>\n",
       "      <th>12</th>\n",
       "      <td>14</td>\n",
       "      <td>False</td>\n",
       "      <td>15</td>\n",
       "      <td>13</td>\n",
       "      <td>28</td>\n",
       "      <td>196</td>\n",
       "      <td>0</td>\n",
       "      <td>13</td>\n",
       "      <td>6</td>\n",
       "      <td>1.076923</td>\n",
       "      <td>1</td>\n",
       "    </tr>\n",
       "    <tr>\n",
       "      <th>13</th>\n",
       "      <td>15</td>\n",
       "      <td>False</td>\n",
       "      <td>16</td>\n",
       "      <td>14</td>\n",
       "      <td>30</td>\n",
       "      <td>225</td>\n",
       "      <td>1</td>\n",
       "      <td>13</td>\n",
       "      <td>6</td>\n",
       "      <td>1.153846</td>\n",
       "      <td>2</td>\n",
       "    </tr>\n",
       "    <tr>\n",
       "      <th>14</th>\n",
       "      <td>16</td>\n",
       "      <td>False</td>\n",
       "      <td>17</td>\n",
       "      <td>15</td>\n",
       "      <td>32</td>\n",
       "      <td>256</td>\n",
       "      <td>0</td>\n",
       "      <td>13</td>\n",
       "      <td>6</td>\n",
       "      <td>1.230769</td>\n",
       "      <td>3</td>\n",
       "    </tr>\n",
       "  </tbody>\n",
       "</table>\n",
       "</div>"
      ],
      "text/plain": [
       "     n      y  n+1  n-1  2n  n**2  n%2  last_prime  primes_lower_n  \\\n",
       "0    2   True    3    1   4     4    0          -1               0   \n",
       "1    3   True    4    2   6     9    1           2               1   \n",
       "2    4  False    5    3   8    16    0           3               2   \n",
       "3    5   True    6    4  10    25    1           3               2   \n",
       "4    6  False    7    5  12    36    0           5               3   \n",
       "5    7   True    8    6  14    49    1           5               3   \n",
       "6    8  False    9    7  16    64    0           7               4   \n",
       "7    9  False   10    8  18    81    1           7               4   \n",
       "8   10  False   11    9  20   100    0           7               4   \n",
       "9   11   True   12   10  22   121    1           7               4   \n",
       "10  12  False   13   11  24   144    0          11               5   \n",
       "11  13   True   14   12  26   169    1          11               5   \n",
       "12  14  False   15   13  28   196    0          13               6   \n",
       "13  15  False   16   14  30   225    1          13               6   \n",
       "14  16  False   17   15  32   256    0          13               6   \n",
       "\n",
       "    n_div_last_prime  n_minus_last_prime  \n",
       "0          -1.000000                  -1  \n",
       "1           1.500000                   1  \n",
       "2           1.333333                   1  \n",
       "3           1.666667                   2  \n",
       "4           1.200000                   1  \n",
       "5           1.400000                   2  \n",
       "6           1.142857                   1  \n",
       "7           1.285714                   2  \n",
       "8           1.428571                   3  \n",
       "9           1.571429                   4  \n",
       "10          1.090909                   1  \n",
       "11          1.181818                   2  \n",
       "12          1.076923                   1  \n",
       "13          1.153846                   2  \n",
       "14          1.230769                   3  "
      ]
     },
     "execution_count": 8,
     "metadata": {},
     "output_type": "execute_result"
    }
   ],
   "source": [
    "data.head(15)"
   ]
  },
  {
   "cell_type": "markdown",
   "id": "df2a51b1-8a1a-482b-94ad-8de87045f5f9",
   "metadata": {},
   "source": [
    "### First Model: Logistic Regression"
   ]
  },
  {
   "cell_type": "code",
   "execution_count": 9,
   "id": "3dc5086c-2b20-4e4f-b94d-ed7f18c61603",
   "metadata": {},
   "outputs": [],
   "source": [
    "feature_col = data.columns\n",
    "target_col = 'y'\n",
    "feature_col = feature_col.drop(target_col)\n"
   ]
  },
  {
   "cell_type": "code",
   "execution_count": 10,
   "id": "c4a0136f-f631-4807-bba4-f108e996273d",
   "metadata": {},
   "outputs": [],
   "source": [
    "# thats obviously crucial if you want the model to converge...\n",
    "\n",
    "from sklearn.preprocessing import MinMaxScaler\n",
    "\n",
    "scaler = MinMaxScaler()\n",
    "data[feature_col] = scaler.fit_transform(data[feature_col])\n",
    "           "
   ]
  },
  {
   "cell_type": "code",
   "execution_count": 11,
   "id": "61885990-0536-445c-b54c-6e94513bc5ce",
   "metadata": {},
   "outputs": [],
   "source": [
    "X, y = data[feature_col], data[target_col]\n"
   ]
  },
  {
   "cell_type": "code",
   "execution_count": 12,
   "id": "f126bf2d-d4c5-4ad4-a2f9-ee3751002af4",
   "metadata": {},
   "outputs": [],
   "source": [
    "# divide in train and test randomly\n",
    "\n",
    "from sklearn.model_selection import train_test_split\n",
    "\n",
    "X_train, X_test, y_train, y_test  = train_test_split(X, y, test_size=0.33, random_state=42)"
   ]
  },
  {
   "cell_type": "code",
   "execution_count": 13,
   "id": "6701948c-b125-4629-b3f7-1b3c5c97f0dc",
   "metadata": {},
   "outputs": [],
   "source": [
    "# train logistic regression as start\n",
    "\n",
    "from sklearn.linear_model import LogisticRegressionCV\n",
    "\n",
    "# lbfgs solver, l2 penalty\n",
    "clf = LogisticRegressionCV(cv=10, random_state=0, max_iter=500).fit(X_train, y_train)"
   ]
  },
  {
   "cell_type": "code",
   "execution_count": 14,
   "id": "a381465e-683f-43a2-a31d-17901c60d39f",
   "metadata": {},
   "outputs": [
    {
     "data": {
      "text/plain": [
       "array([[151208,      0],\n",
       "       [ 13792,      0]], dtype=int64)"
      ]
     },
     "execution_count": 14,
     "metadata": {},
     "output_type": "execute_result"
    }
   ],
   "source": [
    "from sklearn.metrics import confusion_matrix\n",
    "y_pred = clf.predict(X_test)\n",
    "\n",
    "cm = confusion_matrix(y_test, y_pred)\n",
    "cm # no primes predicted at all"
   ]
  },
  {
   "cell_type": "markdown",
   "id": "67239830-b35c-4a63-80cc-19ff0b748400",
   "metadata": {},
   "source": [
    "---> features are probably not strong enough to help with the identification of primes"
   ]
  }
 ],
 "metadata": {
  "kernelspec": {
   "display_name": "Python 3 (ipykernel)",
   "language": "python",
   "name": "python3"
  },
  "language_info": {
   "codemirror_mode": {
    "name": "ipython",
    "version": 3
   },
   "file_extension": ".py",
   "mimetype": "text/x-python",
   "name": "python",
   "nbconvert_exporter": "python",
   "pygments_lexer": "ipython3",
   "version": "3.10.5"
  }
 },
 "nbformat": 4,
 "nbformat_minor": 5
}
