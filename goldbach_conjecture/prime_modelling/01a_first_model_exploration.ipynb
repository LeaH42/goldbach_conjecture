{
 "cells": [
  {
   "cell_type": "markdown",
   "id": "dc91f706-9911-452d-b375-42eba6eb970b",
   "metadata": {},
   "source": [
    "### Is it possible to build a classification model for detecting prime numbers?"
   ]
  },
  {
   "cell_type": "code",
   "execution_count": null,
   "id": "82db1208-05bb-4ce6-b083-8a8aa8feb4d1",
   "metadata": {},
   "outputs": [],
   "source": [
    "# imports\n",
    "import numpy as np\n",
    "#import matplotlib as plt\n",
    "import pandas as pd"
   ]
  },
  {
   "cell_type": "code",
   "execution_count": null,
   "id": "8f58bfba-4da8-4458-bed7-a14e19d114d3",
   "metadata": {},
   "outputs": [],
   "source": [
    "# params\n",
    "prime_lim = 500000"
   ]
  },
  {
   "cell_type": "code",
   "execution_count": null,
   "id": "86e2871e-5e36-4ac3-9424-f934aa2d5a3f",
   "metadata": {},
   "outputs": [],
   "source": [
    "# read in prime numbers\n",
    "primes = np.load(f'../../artifacts/primes/prime_{prime_lim}.npy')\n",
    "primes[:100]"
   ]
  },
  {
   "cell_type": "code",
   "execution_count": null,
   "id": "eafb77b6-7b4d-4026-8c66-0e0a530abc97",
   "metadata": {},
   "outputs": [],
   "source": [
    "# convert to natural numbers with binary target\n",
    "natural_numbers = np.arange(0,prime_lim)\n",
    "target = np.zeros(prime_lim, dtype=bool)\n",
    "target[primes] = True"
   ]
  },
  {
   "cell_type": "code",
   "execution_count": null,
   "id": "6bc10882-9cc4-4e69-8f96-108e893f987a",
   "metadata": {},
   "outputs": [],
   "source": [
    "data = pd.DataFrame(data={'n': natural_numbers[2:], 'y': target[2:]})"
   ]
  },
  {
   "cell_type": "markdown",
   "id": "80b45850-5a63-42d0-99ea-b040ad3787be",
   "metadata": {},
   "source": [
    "### Features"
   ]
  },
  {
   "cell_type": "markdown",
   "id": "d805b543-d002-4e2b-94c7-b2bedba26dde",
   "metadata": {},
   "source": [
    "what kind of features could we have?\n",
    "- n+1, n-1, ... we can extend this a lot\n",
    "- 2n\n",
    "- n*2\n",
    "- n/2\n",
    "\n",
    "right now, idea would be to have every row independent from each other \n",
    "-> model is not supposed to actually compute the prime numbers (although it would be interesting to know whether it could)"
   ]
  },
  {
   "cell_type": "code",
   "execution_count": null,
   "id": "335c2df3-f8af-46c1-abe5-5e06def4a36b",
   "metadata": {},
   "outputs": [],
   "source": [
    "data['n+1'] = data['n'].apply(lambda x: x+1)\n",
    "data['n-1'] = data['n'].apply(lambda x: x-1)\n",
    "data['2n'] = data['n'].apply(lambda x: x*2)\n",
    "data['n**2'] = data['n'].apply(lambda x: x**2)\n",
    "data['n%2'] = data['n'].apply(lambda x: x%2) # this might be too strong as an indicator?"
   ]
  },
  {
   "cell_type": "code",
   "execution_count": null,
   "id": "d1c08766-20a4-41e1-82b8-2f94039e05d4",
   "metadata": {},
   "outputs": [],
   "source": [
    "# distance to last prime?\n",
    "# number of primes before this number\n",
    "# dividing current number by last prime? \n",
    "# what is last prime?\n",
    "\n",
    "data['last_prime']=data['n'].apply(lambda x: primes[primes<x].max() if x!=2 else -1)\n",
    "data['primes_lower_n']=data['n'].apply(lambda x: len(primes[primes<x]) if x!=2 else 0)\n",
    "data['n_div_last_prime']=data.apply(lambda x: x['n']/x['last_prime'] if x['n']!=2 else -1, axis=1)\n",
    "data['n_minus_last_prime']=data.apply(lambda x: x['n']-x['last_prime'] if x['n']!=2 else -1, axis=1)\n",
    "\n",
    "\n",
    "# I could also try out different mod, like n/int((n/3)), is this different from n/3?"
   ]
  },
  {
   "cell_type": "code",
   "execution_count": null,
   "id": "b42ebd39-fa1b-4f68-95a9-3341166814fc",
   "metadata": {},
   "outputs": [],
   "source": [
    "data.head(15)"
   ]
  },
  {
   "cell_type": "markdown",
   "id": "df2a51b1-8a1a-482b-94ad-8de87045f5f9",
   "metadata": {},
   "source": [
    "### First Model: Logistic Regression"
   ]
  },
  {
   "cell_type": "code",
   "execution_count": null,
   "id": "3dc5086c-2b20-4e4f-b94d-ed7f18c61603",
   "metadata": {},
   "outputs": [],
   "source": [
    "feature_col = data.columns\n",
    "target_col = 'y'\n",
    "feature_col = feature_col.drop(target_col)\n"
   ]
  },
  {
   "cell_type": "code",
   "execution_count": null,
   "id": "c4a0136f-f631-4807-bba4-f108e996273d",
   "metadata": {},
   "outputs": [],
   "source": [
    "# thats obviously crucial if you want the model to converge...\n",
    "\n",
    "from sklearn.preprocessing import MinMaxScaler\n",
    "\n",
    "scaler = MinMaxScaler()\n",
    "data[feature_col] = scaler.fit_transform(data[feature_col])\n",
    "           "
   ]
  },
  {
   "cell_type": "code",
   "execution_count": null,
   "id": "61885990-0536-445c-b54c-6e94513bc5ce",
   "metadata": {},
   "outputs": [],
   "source": [
    "X, y = data[feature_col], data[target_col]\n"
   ]
  },
  {
   "cell_type": "code",
   "execution_count": null,
   "id": "f126bf2d-d4c5-4ad4-a2f9-ee3751002af4",
   "metadata": {},
   "outputs": [],
   "source": [
    "# divide in train and test randomly\n",
    "\n",
    "from sklearn.model_selection import train_test_split\n",
    "\n",
    "X_train, X_test, y_train, y_test  = train_test_split(X, y, test_size=0.33, random_state=42)"
   ]
  },
  {
   "cell_type": "code",
   "execution_count": null,
   "id": "6701948c-b125-4629-b3f7-1b3c5c97f0dc",
   "metadata": {},
   "outputs": [],
   "source": [
    "# train logistic regression as start\n",
    "\n",
    "from sklearn.linear_model import LogisticRegressionCV\n",
    "\n",
    "# lbfgs solver, l2 penalty\n",
    "clf = LogisticRegressionCV(cv=10, random_state=0, max_iter=500).fit(X_train, y_train)"
   ]
  },
  {
   "cell_type": "code",
   "execution_count": null,
   "id": "a381465e-683f-43a2-a31d-17901c60d39f",
   "metadata": {},
   "outputs": [],
   "source": [
    "from sklearn.metrics import confusion_matrix\n",
    "y_pred = clf.predict(X_test)\n",
    "\n",
    "cm = confusion_matrix(y_test, y_pred)\n",
    "cm # no primes predicted at all"
   ]
  },
  {
   "cell_type": "markdown",
   "id": "67239830-b35c-4a63-80cc-19ff0b748400",
   "metadata": {},
   "source": [
    "---> features are probably not strong enough to help with the identification of primes"
   ]
  }
 ],
 "metadata": {
  "kernelspec": {
   "display_name": "Python 3 (ipykernel)",
   "language": "python",
   "name": "python3"
  },
  "language_info": {
   "codemirror_mode": {
    "name": "ipython",
    "version": 3
   },
   "file_extension": ".py",
   "mimetype": "text/x-python",
   "name": "python",
   "nbconvert_exporter": "python",
   "pygments_lexer": "ipython3",
   "version": "3.10.5"
  }
 },
 "nbformat": 4,
 "nbformat_minor": 5
}
